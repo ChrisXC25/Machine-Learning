{
  "nbformat": 4,
  "nbformat_minor": 0,
  "metadata": {
    "colab": {
      "provenance": []
    },
    "kernelspec": {
      "name": "python3",
      "display_name": "Python 3"
    },
    "language_info": {
      "name": "python"
    }
  },
  "cells": [
    {
      "cell_type": "code",
      "execution_count": null,
      "metadata": {
        "id": "vAd0-1xO7kRE"
      },
      "outputs": [],
      "source": []
    },
    {
      "cell_type": "markdown",
      "source": [
        "# Using a machine learning approach for the CAP_3 data\n",
        "\n",
        "dataset:logit_2\n",
        "\n",
        "Outcome (y): colon_screen\n",
        "\n",
        "Predictors (x):\n",
        "\n",
        " hc_cov + dr_race + dr_ethnicity +\n",
        "  time_category + employ + hi_bcholest + acid + age\n",
        "\n",
        "Model: Logistic\n",
        "\n",
        "Number of observations: 79"
      ],
      "metadata": {
        "id": "HErfuHTa7oMF"
      }
    },
    {
      "cell_type": "code",
      "source": [
        "# Load required Libraries\n",
        "\n",
        "import pandas as pd\n",
        "import numpy as np\n",
        "from sklearn.model_selection import train_test_split\n",
        "from sklearn.preprocessing import StandardScaler\n",
        "from sklearn.linear_model import LogisticRegression\n",
        "from sklearn.metrics import accuracy_score, roc_auc_score, confusion_matrix, classification_report, roc_curve\n",
        "import matplotlib.pyplot as plt\n",
        "import seaborn as sns\n",
        "\n",
        "\n"
      ],
      "metadata": {
        "id": "oF_vpkAM8f8F"
      },
      "execution_count": 1,
      "outputs": []
    },
    {
      "cell_type": "markdown",
      "source": [
        "read in the logit_2 dataset"
      ],
      "metadata": {
        "id": "EF9XCstV8gmX"
      }
    },
    {
      "cell_type": "code",
      "source": [
        "# Load the dataset\n",
        "df = pd.read_csv('/content/logit_2_data')\n",
        "\n",
        "df.head()\n",
        "\n",
        "# drop the first column (identifier)\n",
        "df = df.drop(df.columns[0], axis=1)\n",
        "\n",
        "df.head()\n",
        "\n",
        "\n"
      ],
      "metadata": {
        "colab": {
          "base_uri": "https://localhost:8080/",
          "height": 206
        },
        "id": "V0WaWFFF8hA-",
        "outputId": "07322885-536d-4393-d87c-7a1af59ea13e"
      },
      "execution_count": 8,
      "outputs": [
        {
          "output_type": "execute_result",
          "data": {
            "text/plain": [
              "   colon_screen  hc_cov  dr_race  dr_ethnicity  time_category  employ  \\\n",
              "0             1       2        1             1              3       1   \n",
              "1             1       2        2             2              3       0   \n",
              "2             1       2        1             1              2       1   \n",
              "3             1       2        1             1              3       0   \n",
              "4             1       2        1             1              3       0   \n",
              "\n",
              "   hi_bcholest  acid  age  \n",
              "0            2     2   63  \n",
              "1            1     1   54  \n",
              "2            2     2   64  \n",
              "3            1     2   69  \n",
              "4            2     2   74  "
            ],
            "text/html": [
              "\n",
              "  <div id=\"df-c485db68-f92f-490e-9ee2-cd4c31ab39a9\" class=\"colab-df-container\">\n",
              "    <div>\n",
              "<style scoped>\n",
              "    .dataframe tbody tr th:only-of-type {\n",
              "        vertical-align: middle;\n",
              "    }\n",
              "\n",
              "    .dataframe tbody tr th {\n",
              "        vertical-align: top;\n",
              "    }\n",
              "\n",
              "    .dataframe thead th {\n",
              "        text-align: right;\n",
              "    }\n",
              "</style>\n",
              "<table border=\"1\" class=\"dataframe\">\n",
              "  <thead>\n",
              "    <tr style=\"text-align: right;\">\n",
              "      <th></th>\n",
              "      <th>colon_screen</th>\n",
              "      <th>hc_cov</th>\n",
              "      <th>dr_race</th>\n",
              "      <th>dr_ethnicity</th>\n",
              "      <th>time_category</th>\n",
              "      <th>employ</th>\n",
              "      <th>hi_bcholest</th>\n",
              "      <th>acid</th>\n",
              "      <th>age</th>\n",
              "    </tr>\n",
              "  </thead>\n",
              "  <tbody>\n",
              "    <tr>\n",
              "      <th>0</th>\n",
              "      <td>1</td>\n",
              "      <td>2</td>\n",
              "      <td>1</td>\n",
              "      <td>1</td>\n",
              "      <td>3</td>\n",
              "      <td>1</td>\n",
              "      <td>2</td>\n",
              "      <td>2</td>\n",
              "      <td>63</td>\n",
              "    </tr>\n",
              "    <tr>\n",
              "      <th>1</th>\n",
              "      <td>1</td>\n",
              "      <td>2</td>\n",
              "      <td>2</td>\n",
              "      <td>2</td>\n",
              "      <td>3</td>\n",
              "      <td>0</td>\n",
              "      <td>1</td>\n",
              "      <td>1</td>\n",
              "      <td>54</td>\n",
              "    </tr>\n",
              "    <tr>\n",
              "      <th>2</th>\n",
              "      <td>1</td>\n",
              "      <td>2</td>\n",
              "      <td>1</td>\n",
              "      <td>1</td>\n",
              "      <td>2</td>\n",
              "      <td>1</td>\n",
              "      <td>2</td>\n",
              "      <td>2</td>\n",
              "      <td>64</td>\n",
              "    </tr>\n",
              "    <tr>\n",
              "      <th>3</th>\n",
              "      <td>1</td>\n",
              "      <td>2</td>\n",
              "      <td>1</td>\n",
              "      <td>1</td>\n",
              "      <td>3</td>\n",
              "      <td>0</td>\n",
              "      <td>1</td>\n",
              "      <td>2</td>\n",
              "      <td>69</td>\n",
              "    </tr>\n",
              "    <tr>\n",
              "      <th>4</th>\n",
              "      <td>1</td>\n",
              "      <td>2</td>\n",
              "      <td>1</td>\n",
              "      <td>1</td>\n",
              "      <td>3</td>\n",
              "      <td>0</td>\n",
              "      <td>2</td>\n",
              "      <td>2</td>\n",
              "      <td>74</td>\n",
              "    </tr>\n",
              "  </tbody>\n",
              "</table>\n",
              "</div>\n",
              "    <div class=\"colab-df-buttons\">\n",
              "\n",
              "  <div class=\"colab-df-container\">\n",
              "    <button class=\"colab-df-convert\" onclick=\"convertToInteractive('df-c485db68-f92f-490e-9ee2-cd4c31ab39a9')\"\n",
              "            title=\"Convert this dataframe to an interactive table.\"\n",
              "            style=\"display:none;\">\n",
              "\n",
              "  <svg xmlns=\"http://www.w3.org/2000/svg\" height=\"24px\" viewBox=\"0 -960 960 960\">\n",
              "    <path d=\"M120-120v-720h720v720H120Zm60-500h600v-160H180v160Zm220 220h160v-160H400v160Zm0 220h160v-160H400v160ZM180-400h160v-160H180v160Zm440 0h160v-160H620v160ZM180-180h160v-160H180v160Zm440 0h160v-160H620v160Z\"/>\n",
              "  </svg>\n",
              "    </button>\n",
              "\n",
              "  <style>\n",
              "    .colab-df-container {\n",
              "      display:flex;\n",
              "      gap: 12px;\n",
              "    }\n",
              "\n",
              "    .colab-df-convert {\n",
              "      background-color: #E8F0FE;\n",
              "      border: none;\n",
              "      border-radius: 50%;\n",
              "      cursor: pointer;\n",
              "      display: none;\n",
              "      fill: #1967D2;\n",
              "      height: 32px;\n",
              "      padding: 0 0 0 0;\n",
              "      width: 32px;\n",
              "    }\n",
              "\n",
              "    .colab-df-convert:hover {\n",
              "      background-color: #E2EBFA;\n",
              "      box-shadow: 0px 1px 2px rgba(60, 64, 67, 0.3), 0px 1px 3px 1px rgba(60, 64, 67, 0.15);\n",
              "      fill: #174EA6;\n",
              "    }\n",
              "\n",
              "    .colab-df-buttons div {\n",
              "      margin-bottom: 4px;\n",
              "    }\n",
              "\n",
              "    [theme=dark] .colab-df-convert {\n",
              "      background-color: #3B4455;\n",
              "      fill: #D2E3FC;\n",
              "    }\n",
              "\n",
              "    [theme=dark] .colab-df-convert:hover {\n",
              "      background-color: #434B5C;\n",
              "      box-shadow: 0px 1px 3px 1px rgba(0, 0, 0, 0.15);\n",
              "      filter: drop-shadow(0px 1px 2px rgba(0, 0, 0, 0.3));\n",
              "      fill: #FFFFFF;\n",
              "    }\n",
              "  </style>\n",
              "\n",
              "    <script>\n",
              "      const buttonEl =\n",
              "        document.querySelector('#df-c485db68-f92f-490e-9ee2-cd4c31ab39a9 button.colab-df-convert');\n",
              "      buttonEl.style.display =\n",
              "        google.colab.kernel.accessAllowed ? 'block' : 'none';\n",
              "\n",
              "      async function convertToInteractive(key) {\n",
              "        const element = document.querySelector('#df-c485db68-f92f-490e-9ee2-cd4c31ab39a9');\n",
              "        const dataTable =\n",
              "          await google.colab.kernel.invokeFunction('convertToInteractive',\n",
              "                                                    [key], {});\n",
              "        if (!dataTable) return;\n",
              "\n",
              "        const docLinkHtml = 'Like what you see? Visit the ' +\n",
              "          '<a target=\"_blank\" href=https://colab.research.google.com/notebooks/data_table.ipynb>data table notebook</a>'\n",
              "          + ' to learn more about interactive tables.';\n",
              "        element.innerHTML = '';\n",
              "        dataTable['output_type'] = 'display_data';\n",
              "        await google.colab.output.renderOutput(dataTable, element);\n",
              "        const docLink = document.createElement('div');\n",
              "        docLink.innerHTML = docLinkHtml;\n",
              "        element.appendChild(docLink);\n",
              "      }\n",
              "    </script>\n",
              "  </div>\n",
              "\n",
              "\n",
              "<div id=\"df-e2607493-65b1-469f-9463-65ef82952e55\">\n",
              "  <button class=\"colab-df-quickchart\" onclick=\"quickchart('df-e2607493-65b1-469f-9463-65ef82952e55')\"\n",
              "            title=\"Suggest charts\"\n",
              "            style=\"display:none;\">\n",
              "\n",
              "<svg xmlns=\"http://www.w3.org/2000/svg\" height=\"24px\"viewBox=\"0 0 24 24\"\n",
              "     width=\"24px\">\n",
              "    <g>\n",
              "        <path d=\"M19 3H5c-1.1 0-2 .9-2 2v14c0 1.1.9 2 2 2h14c1.1 0 2-.9 2-2V5c0-1.1-.9-2-2-2zM9 17H7v-7h2v7zm4 0h-2V7h2v10zm4 0h-2v-4h2v4z\"/>\n",
              "    </g>\n",
              "</svg>\n",
              "  </button>\n",
              "\n",
              "<style>\n",
              "  .colab-df-quickchart {\n",
              "      --bg-color: #E8F0FE;\n",
              "      --fill-color: #1967D2;\n",
              "      --hover-bg-color: #E2EBFA;\n",
              "      --hover-fill-color: #174EA6;\n",
              "      --disabled-fill-color: #AAA;\n",
              "      --disabled-bg-color: #DDD;\n",
              "  }\n",
              "\n",
              "  [theme=dark] .colab-df-quickchart {\n",
              "      --bg-color: #3B4455;\n",
              "      --fill-color: #D2E3FC;\n",
              "      --hover-bg-color: #434B5C;\n",
              "      --hover-fill-color: #FFFFFF;\n",
              "      --disabled-bg-color: #3B4455;\n",
              "      --disabled-fill-color: #666;\n",
              "  }\n",
              "\n",
              "  .colab-df-quickchart {\n",
              "    background-color: var(--bg-color);\n",
              "    border: none;\n",
              "    border-radius: 50%;\n",
              "    cursor: pointer;\n",
              "    display: none;\n",
              "    fill: var(--fill-color);\n",
              "    height: 32px;\n",
              "    padding: 0;\n",
              "    width: 32px;\n",
              "  }\n",
              "\n",
              "  .colab-df-quickchart:hover {\n",
              "    background-color: var(--hover-bg-color);\n",
              "    box-shadow: 0 1px 2px rgba(60, 64, 67, 0.3), 0 1px 3px 1px rgba(60, 64, 67, 0.15);\n",
              "    fill: var(--button-hover-fill-color);\n",
              "  }\n",
              "\n",
              "  .colab-df-quickchart-complete:disabled,\n",
              "  .colab-df-quickchart-complete:disabled:hover {\n",
              "    background-color: var(--disabled-bg-color);\n",
              "    fill: var(--disabled-fill-color);\n",
              "    box-shadow: none;\n",
              "  }\n",
              "\n",
              "  .colab-df-spinner {\n",
              "    border: 2px solid var(--fill-color);\n",
              "    border-color: transparent;\n",
              "    border-bottom-color: var(--fill-color);\n",
              "    animation:\n",
              "      spin 1s steps(1) infinite;\n",
              "  }\n",
              "\n",
              "  @keyframes spin {\n",
              "    0% {\n",
              "      border-color: transparent;\n",
              "      border-bottom-color: var(--fill-color);\n",
              "      border-left-color: var(--fill-color);\n",
              "    }\n",
              "    20% {\n",
              "      border-color: transparent;\n",
              "      border-left-color: var(--fill-color);\n",
              "      border-top-color: var(--fill-color);\n",
              "    }\n",
              "    30% {\n",
              "      border-color: transparent;\n",
              "      border-left-color: var(--fill-color);\n",
              "      border-top-color: var(--fill-color);\n",
              "      border-right-color: var(--fill-color);\n",
              "    }\n",
              "    40% {\n",
              "      border-color: transparent;\n",
              "      border-right-color: var(--fill-color);\n",
              "      border-top-color: var(--fill-color);\n",
              "    }\n",
              "    60% {\n",
              "      border-color: transparent;\n",
              "      border-right-color: var(--fill-color);\n",
              "    }\n",
              "    80% {\n",
              "      border-color: transparent;\n",
              "      border-right-color: var(--fill-color);\n",
              "      border-bottom-color: var(--fill-color);\n",
              "    }\n",
              "    90% {\n",
              "      border-color: transparent;\n",
              "      border-bottom-color: var(--fill-color);\n",
              "    }\n",
              "  }\n",
              "</style>\n",
              "\n",
              "  <script>\n",
              "    async function quickchart(key) {\n",
              "      const quickchartButtonEl =\n",
              "        document.querySelector('#' + key + ' button');\n",
              "      quickchartButtonEl.disabled = true;  // To prevent multiple clicks.\n",
              "      quickchartButtonEl.classList.add('colab-df-spinner');\n",
              "      try {\n",
              "        const charts = await google.colab.kernel.invokeFunction(\n",
              "            'suggestCharts', [key], {});\n",
              "      } catch (error) {\n",
              "        console.error('Error during call to suggestCharts:', error);\n",
              "      }\n",
              "      quickchartButtonEl.classList.remove('colab-df-spinner');\n",
              "      quickchartButtonEl.classList.add('colab-df-quickchart-complete');\n",
              "    }\n",
              "    (() => {\n",
              "      let quickchartButtonEl =\n",
              "        document.querySelector('#df-e2607493-65b1-469f-9463-65ef82952e55 button');\n",
              "      quickchartButtonEl.style.display =\n",
              "        google.colab.kernel.accessAllowed ? 'block' : 'none';\n",
              "    })();\n",
              "  </script>\n",
              "</div>\n",
              "\n",
              "    </div>\n",
              "  </div>\n"
            ],
            "application/vnd.google.colaboratory.intrinsic+json": {
              "type": "dataframe",
              "variable_name": "df",
              "summary": "{\n  \"name\": \"df\",\n  \"rows\": 79,\n  \"fields\": [\n    {\n      \"column\": \"colon_screen\",\n      \"properties\": {\n        \"dtype\": \"number\",\n        \"std\": 0,\n        \"min\": 0,\n        \"max\": 1,\n        \"num_unique_values\": 2,\n        \"samples\": [\n          0,\n          1\n        ],\n        \"semantic_type\": \"\",\n        \"description\": \"\"\n      }\n    },\n    {\n      \"column\": \"hc_cov\",\n      \"properties\": {\n        \"dtype\": \"number\",\n        \"std\": 0,\n        \"min\": 1,\n        \"max\": 2,\n        \"num_unique_values\": 2,\n        \"samples\": [\n          1,\n          2\n        ],\n        \"semantic_type\": \"\",\n        \"description\": \"\"\n      }\n    },\n    {\n      \"column\": \"dr_race\",\n      \"properties\": {\n        \"dtype\": \"number\",\n        \"std\": 0,\n        \"min\": 1,\n        \"max\": 2,\n        \"num_unique_values\": 2,\n        \"samples\": [\n          2,\n          1\n        ],\n        \"semantic_type\": \"\",\n        \"description\": \"\"\n      }\n    },\n    {\n      \"column\": \"dr_ethnicity\",\n      \"properties\": {\n        \"dtype\": \"number\",\n        \"std\": 0,\n        \"min\": 1,\n        \"max\": 2,\n        \"num_unique_values\": 2,\n        \"samples\": [\n          2,\n          1\n        ],\n        \"semantic_type\": \"\",\n        \"description\": \"\"\n      }\n    },\n    {\n      \"column\": \"time_category\",\n      \"properties\": {\n        \"dtype\": \"number\",\n        \"std\": 0,\n        \"min\": 1,\n        \"max\": 3,\n        \"num_unique_values\": 3,\n        \"samples\": [\n          3,\n          2\n        ],\n        \"semantic_type\": \"\",\n        \"description\": \"\"\n      }\n    },\n    {\n      \"column\": \"employ\",\n      \"properties\": {\n        \"dtype\": \"number\",\n        \"std\": 0,\n        \"min\": 0,\n        \"max\": 1,\n        \"num_unique_values\": 2,\n        \"samples\": [\n          0,\n          1\n        ],\n        \"semantic_type\": \"\",\n        \"description\": \"\"\n      }\n    },\n    {\n      \"column\": \"hi_bcholest\",\n      \"properties\": {\n        \"dtype\": \"number\",\n        \"std\": 0,\n        \"min\": 1,\n        \"max\": 2,\n        \"num_unique_values\": 2,\n        \"samples\": [\n          1,\n          2\n        ],\n        \"semantic_type\": \"\",\n        \"description\": \"\"\n      }\n    },\n    {\n      \"column\": \"acid\",\n      \"properties\": {\n        \"dtype\": \"number\",\n        \"std\": 0,\n        \"min\": 1,\n        \"max\": 2,\n        \"num_unique_values\": 2,\n        \"samples\": [\n          1,\n          2\n        ],\n        \"semantic_type\": \"\",\n        \"description\": \"\"\n      }\n    },\n    {\n      \"column\": \"age\",\n      \"properties\": {\n        \"dtype\": \"number\",\n        \"std\": 7,\n        \"min\": 50,\n        \"max\": 88,\n        \"num_unique_values\": 29,\n        \"samples\": [\n          52,\n          55\n        ],\n        \"semantic_type\": \"\",\n        \"description\": \"\"\n      }\n    }\n  ]\n}"
            }
          },
          "metadata": {},
          "execution_count": 8
        }
      ]
    },
    {
      "cell_type": "markdown",
      "source": [
        "set outcome and predictors, split traning and testing set"
      ],
      "metadata": {
        "id": "-r1Omvk68_YB"
      }
    },
    {
      "cell_type": "code",
      "source": [
        "# Define the predictors and the outcome variable\n",
        "X = df[['hc_cov', 'dr_race', 'dr_ethnicity', 'time_category','employ','hi_bcholest',\n",
        "        'acid', 'age']]\n",
        "y = df['colon_screen']\n",
        "\n",
        "# Split the data into training and testing sets (50% training, 50% testing)\n",
        "X_train, X_test, y_train, y_test = train_test_split(X, y, test_size=0.5, random_state=42)"
      ],
      "metadata": {
        "id": "dRFeSjSf8_6U"
      },
      "execution_count": 16,
      "outputs": []
    },
    {
      "cell_type": "markdown",
      "source": [
        "Standardized the predictors so that they have equal weights"
      ],
      "metadata": {
        "id": "Dws-8t3H9AN7"
      }
    },
    {
      "cell_type": "code",
      "source": [
        "# Standardize the features\n",
        "scaler = StandardScaler()\n",
        "X_train_scaled = scaler.fit_transform(X_train)\n",
        "X_test_scaled = scaler.transform(X_test)"
      ],
      "metadata": {
        "id": "w-u9XSp79Aas"
      },
      "execution_count": 17,
      "outputs": []
    },
    {
      "cell_type": "code",
      "source": [],
      "metadata": {
        "id": "mASaocrrCT7w"
      },
      "execution_count": null,
      "outputs": []
    },
    {
      "cell_type": "markdown",
      "source": [
        "Build the Logistic Regression Model"
      ],
      "metadata": {
        "id": "Xg8C9R6X-qqy"
      }
    },
    {
      "cell_type": "code",
      "source": [
        "\n",
        "# Initialize the logistic regression model\n",
        "logit_2 = LogisticRegression()\n",
        "\n",
        "# Fit the model on the training data\n",
        "logit_2.fit(X_train_scaled, y_train)\n",
        "\n",
        "# Predict on the test set\n",
        "y_pred = logit_2.predict(X_test_scaled)\n",
        "y_pred_prob = logit_2.predict_proba(X_test_scaled)[:, 1]  # Probabilities for the positive class\n"
      ],
      "metadata": {
        "id": "BnRrcpJ--rBy"
      },
      "execution_count": 18,
      "outputs": []
    },
    {
      "cell_type": "markdown",
      "source": [
        "Check accuracy, percison, ROC-AUC and confusion matrix\n",
        "\n",
        "\n",
        "# accuracy score:\n",
        "Accuracy is a metric that measures how often a machine learning model correctly predicts the outcome\n",
        "\n",
        "\n",
        "# percison:\n",
        "Precision shows how often an ML model is correct when predicting the target class\n",
        "\n",
        "# recall:\n",
        "Recall is a metric that measures how often a machine learning model correctly identifies positive instances (true positives) from all the actual positive samples in the dataset\n",
        "\n"
      ],
      "metadata": {
        "id": "redjh9Pz-rZK"
      }
    },
    {
      "cell_type": "code",
      "source": [
        "# Calculate accuracy\n",
        "from sklearn.metrics import accuracy_score, precision_score, recall_score # Import necessary functions\n",
        "\n",
        "accuracy = accuracy_score(y_test, y_pred)\n",
        "print(f\"Accuracy: {accuracy}\")\n",
        "\n",
        "# Calculate precision\n",
        "precision = precision_score(y_test, y_pred)\n",
        "print(f\"Precision: {precision}\")\n",
        "\n",
        "# Calculate recall\n",
        "recall = recall_score(y_test, y_pred)\n",
        "print(f\"Recall: {recall}\") # a recall = 1 might be over-fitting"
      ],
      "metadata": {
        "colab": {
          "base_uri": "https://localhost:8080/"
        },
        "id": "YwH4-EBO-rm5",
        "outputId": "91d8098e-9598-443f-935e-d388c80cb52d"
      },
      "execution_count": 19,
      "outputs": [
        {
          "output_type": "stream",
          "name": "stdout",
          "text": [
            "Accuracy: 0.875\n",
            "Precision: 0.8918918918918919\n",
            "Recall: 0.9705882352941176\n"
          ]
        }
      ]
    },
    {
      "cell_type": "markdown",
      "source": [
        "ROC-AUC, confusion matrix, f1 socre"
      ],
      "metadata": {
        "id": "ccHDx_9TBtPC"
      }
    },
    {
      "cell_type": "code",
      "source": [
        "# Calculate ROC-AUC score\n",
        "roc_auc = roc_auc_score(y_test, y_pred_prob)\n",
        "print(f'ROC-AUC Score: {roc_auc:.2f}')\n",
        "\n",
        "# Confusion matrix\n",
        "conf_matrix = confusion_matrix(y_test, y_pred)\n",
        "print('Confusion Matrix:')\n",
        "print(conf_matrix)\n",
        "\n",
        "# Classification report\n",
        "class_report = classification_report(y_test, y_pred)\n",
        "print('Classification Report:')\n",
        "print(class_report)\n",
        "\n",
        "# Plot ROC Curve\n",
        "fpr, tpr, thresholds = roc_curve(y_test, y_pred_prob)\n",
        "plt.figure(figsize=(8, 6))\n",
        "plt.plot(fpr, tpr, label=f'ROC curve (area = {roc_auc:.2f})')\n",
        "plt.plot([0, 1], [0, 1], 'k--', label='Random guessing')\n",
        "plt.xlabel('False Positive Rate')\n",
        "plt.ylabel('True Positive Rate')\n",
        "plt.title('ROC Curve')\n",
        "plt.legend(loc='lower right')\n",
        "plt.show()\n"
      ],
      "metadata": {
        "colab": {
          "base_uri": "https://localhost:8080/",
          "height": 807
        },
        "id": "RFbTylMN-r1l",
        "outputId": "057039b9-4774-4ddf-cf60-a1547888e19e"
      },
      "execution_count": 20,
      "outputs": [
        {
          "output_type": "stream",
          "name": "stdout",
          "text": [
            "ROC-AUC Score: 0.72\n",
            "Confusion Matrix:\n",
            "[[ 2  4]\n",
            " [ 1 33]]\n",
            "Classification Report:\n",
            "              precision    recall  f1-score   support\n",
            "\n",
            "           0       0.67      0.33      0.44         6\n",
            "           1       0.89      0.97      0.93        34\n",
            "\n",
            "    accuracy                           0.88        40\n",
            "   macro avg       0.78      0.65      0.69        40\n",
            "weighted avg       0.86      0.88      0.86        40\n",
            "\n"
          ]
        },
        {
          "output_type": "display_data",
          "data": {
            "text/plain": [
              "<Figure size 800x600 with 1 Axes>"
            ],
            "image/png": "[encoded data removed]"
          },
          "metadata": {}
        }
      ]
    },
    {
      "cell_type": "code",
      "source": [
        "# test set might be too small"
      ],
      "metadata": {
        "id": "nlMRn0BTBtn2"
      },
      "execution_count": null,
      "outputs": []
    },
    {
      "cell_type": "markdown",
      "source": [
        " Model Interpretation"
      ],
      "metadata": {
        "id": "VP-Nd-D1ChSK"
      }
    },
    {
      "cell_type": "code",
      "source": [
        "# Coefficients of the model\n",
        "coefficients = pd.DataFrame({\n",
        "    'Predictor': X.columns,\n",
        "    'Coefficient': logit_2.coef_[0]\n",
        "})\n",
        "\n",
        "# Calculate the Odds Ratio by exponentiating the coefficients\n",
        "coefficients['Odds_Ratio'] = np.exp(coefficients['Coefficient'])\n",
        "\n",
        "# Sort by the Odds Ratio for easier interpretation\n",
        "coefficients_sorted = coefficients.sort_values(by='Odds_Ratio', ascending=False)\n",
        "\n",
        "# Display the coefficients and odds ratios\n",
        "print(coefficients_sorted)\n"
      ],
      "metadata": {
        "colab": {
          "base_uri": "https://localhost:8080/"
        },
        "id": "3LPgW-a8BtqH",
        "outputId": "88b95a29-22e1-422e-d91b-1cbaa7103df9"
      },
      "execution_count": 21,
      "outputs": [
        {
          "output_type": "stream",
          "name": "stdout",
          "text": [
            "       Predictor  Coefficient  Odds_Ratio\n",
            "3  time_category     1.292858    3.643183\n",
            "0         hc_cov     0.547387    1.728730\n",
            "7            age     0.273557    1.314633\n",
            "5    hi_bcholest     0.109697    1.115940\n",
            "6           acid     0.036510    1.037185\n",
            "1        dr_race    -0.607041    0.544961\n",
            "2   dr_ethnicity    -0.607041    0.544961\n",
            "4         employ    -0.735686    0.479177\n"
          ]
        }
      ]
    },
    {
      "cell_type": "markdown",
      "source": [
        "Fit a normal logistic model to check significant predictors"
      ],
      "metadata": {
        "id": "6LeMIOX_EIL5"
      }
    },
    {
      "cell_type": "code",
      "source": [
        "import pandas as pd\n",
        "import numpy as np\n",
        "import statsmodels.api as sm\n",
        "\n",
        "X = df[['hc_cov', 'dr_race', 'dr_ethnicity', 'time_category','employ','hi_bcholest',\n",
        "        'acid', 'age']]\n",
        "y = df['colon_screen']\n",
        "\n",
        "# Add a constant to the model (intercept)\n",
        "X_with_const = sm.add_constant(X)\n",
        "\n",
        "# Fit the logistic regression model using statsmodels\n",
        "logit_model = sm.Logit(y, X_with_const)\n",
        "result = logit_model.fit()\n",
        "\n",
        "# Print the summary to see coefficients, p-values, and more\n",
        "print(result.summary())\n",
        "\n",
        "# Calculate odds ratios by exponentiating the coefficients\n",
        "odds_ratios = np.exp(result.params)\n",
        "\n",
        "# Extract p-values\n",
        "p_values = result.pvalues\n",
        "\n",
        "# Combine everything into a DataFrame\n",
        "summary_df = pd.DataFrame({\n",
        "    'Predictor': X_with_const.columns,\n",
        "    'Coefficient': result.params,\n",
        "    'Odds_Ratio': odds_ratios,\n",
        "    'p_value': p_values\n",
        "})\n",
        "\n",
        "# Print the complete summary DataFrame\n",
        "print(summary_df)\n",
        "\n",
        "# Filter for significant predictors (p-value < 0.05)\n",
        "significant_predictors = summary_df[summary_df['p_value'] < 0.05]\n",
        "print(\"Significant predictors:\")\n",
        "print(significant_predictors)\n"
      ],
      "metadata": {
        "colab": {
          "base_uri": "https://localhost:8080/"
        },
        "id": "i_nCWH2NBttu",
        "outputId": "ee8dc5be-f1fd-4b0f-867c-82f75d155318"
      },
      "execution_count": 22,
      "outputs": [
        {
          "output_type": "stream",
          "name": "stdout",
          "text": [
            "Optimization terminated successfully.\n",
            "         Current function value: 0.192275\n",
            "         Iterations 9\n",
            "                           Logit Regression Results                           \n",
            "==============================================================================\n",
            "Dep. Variable:           colon_screen   No. Observations:                   79\n",
            "Model:                          Logit   Df Residuals:                       70\n",
            "Method:                           MLE   Df Model:                            8\n",
            "Date:                Mon, 12 Aug 2024   Pseudo R-squ.:                  0.4938\n",
            "Time:                        00:51:23   Log-Likelihood:                -15.190\n",
            "converged:                       True   LL-Null:                       -30.007\n",
            "Covariance Type:            nonrobust   LLR p-value:                 0.0002452\n",
            "=================================================================================\n",
            "                    coef    std err          z      P>|z|      [0.025      0.975]\n",
            "---------------------------------------------------------------------------------\n",
            "const           -14.7498      7.232     -2.040      0.041     -28.923      -0.576\n",
            "hc_cov            4.1591      1.843      2.257      0.024       0.547       7.771\n",
            "dr_race           2.9825      1.603      1.861      0.063      -0.159       6.124\n",
            "dr_ethnicity     -5.4475      2.272     -2.398      0.017      -9.901      -0.994\n",
            "time_category     2.2938      0.820      2.798      0.005       0.687       3.900\n",
            "employ           -1.0689      1.169     -0.914      0.361      -3.361       1.223\n",
            "hi_bcholest       0.1455      1.200      0.121      0.904      -2.207       2.498\n",
            "acid              0.7535      1.178      0.640      0.522      -1.556       3.063\n",
            "age               0.1026      0.095      1.083      0.279      -0.083       0.288\n",
            "=================================================================================\n",
            "                   Predictor  Coefficient    Odds_Ratio   p_value\n",
            "const                  const   -14.749821  3.928568e-07  0.041386\n",
            "hc_cov                hc_cov     4.159102  6.401403e+01  0.024033\n",
            "dr_race              dr_race     2.982450  1.973612e+01  0.062778\n",
            "dr_ethnicity    dr_ethnicity    -5.447549  4.306847e-03  0.016505\n",
            "time_category  time_category     2.293836  9.912889e+00  0.005138\n",
            "employ                employ    -1.068945  3.433705e-01  0.360596\n",
            "hi_bcholest      hi_bcholest     0.145459  1.156570e+00  0.903526\n",
            "acid                    acid     0.753534  2.124494e+00  0.522495\n",
            "age                      age     0.102591  1.108038e+00  0.278817\n",
            "Significant predictors:\n",
            "                   Predictor  Coefficient    Odds_Ratio   p_value\n",
            "const                  const   -14.749821  3.928568e-07  0.041386\n",
            "hc_cov                hc_cov     4.159102  6.401403e+01  0.024033\n",
            "dr_ethnicity    dr_ethnicity    -5.447549  4.306847e-03  0.016505\n",
            "time_category  time_category     2.293836  9.912889e+00  0.005138\n"
          ]
        }
      ]
    },
    {
      "cell_type": "markdown",
      "source": [
        "Input for each variables then show predicted outcome"
      ],
      "metadata": {
        "id": "HMYqB6qvGvdC"
      }
    },
    {
      "cell_type": "code",
      "source": [
        "# Get user inputs for each predictor\n",
        "input_data = {}\n",
        "for predictor in X.columns:\n",
        "    value = float(input(f\"Enter the value for {predictor}: \"))\n",
        "    input_data[predictor] = value\n",
        "\n",
        "# Convert input data to a DataFrame with the same structure as the model's predictors\n",
        "input_df = pd.DataFrame([input_data])\n",
        "\n",
        "# Add a constant term to the input data (intercept)\n",
        "input_df_with_const = sm.add_constant(input_df, has_constant='add') # Ensure a constant is added even if it thinks one exists\n",
        "\n",
        "# Predict the outcome probability using the model\n",
        "predicted_prob = result.predict(input_df_with_const)[0]\n",
        "\n",
        "# Determine the predicted class based on the threshold of 0.5\n",
        "predicted_class = 1 if predicted_prob >= 0.5 else 0\n",
        "\n",
        "# Output the result\n",
        "print(f\"Predicted probability: {predicted_prob:.4f}\")\n",
        "print(f\"Predicted outcome (class): {predicted_class}\")"
      ],
      "metadata": {
        "colab": {
          "base_uri": "https://localhost:8080/"
        },
        "id": "6S83sdXuGv0h",
        "outputId": "387c0e31-c16b-48a9-8073-1d06548eb803"
      },
      "execution_count": 25,
      "outputs": [
        {
          "output_type": "stream",
          "name": "stdout",
          "text": [
            "Enter the value for hc_cov: 1\n",
            "Enter the value for dr_race: 1\n",
            "Enter the value for dr_ethnicity: 1\n",
            "Enter the value for time_category: 2\n",
            "Enter the value for employ: 1\n",
            "Enter the value for hi_bcholest: 1\n",
            "Enter the value for acid: 1\n",
            "Enter the value for age: 2\n",
            "Predicted probability: 0.0002\n",
            "Predicted outcome (class): 0\n"
          ]
        }
      ]
    },
    {
      "cell_type": "code",
      "source": [
        "# run the above section to put in inputs"
      ],
      "metadata": {
        "id": "lwzIdtrcG6fJ"
      },
      "execution_count": null,
      "outputs": []
    },
    {
      "cell_type": "code",
      "source": [],
      "metadata": {
        "id": "BcxVuypoG6oG"
      },
      "execution_count": null,
      "outputs": []
    }
  ]
}